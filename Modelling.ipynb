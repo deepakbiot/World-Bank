{
 "cells": [
  {
   "cell_type": "code",
   "execution_count": 1,
   "metadata": {},
   "outputs": [],
   "source": [
    "import pandas as pd\n",
    "import sklearn\n",
    "import numpy as np\n",
    "import seaborn as sns\n",
    "import matplotlib.pyplot as plt\n",
    "%matplotlib inline"
   ]
  },
  {
   "cell_type": "code",
   "execution_count": 2,
   "metadata": {},
   "outputs": [],
   "source": [
    "data = pd.read_csv('Renewable Energy Data.csv', encoding='cp1252')"
   ]
  },
  {
   "cell_type": "code",
   "execution_count": 3,
   "metadata": {},
   "outputs": [
    {
     "data": {
      "text/html": [
       "<div>\n",
       "<style scoped>\n",
       "    .dataframe tbody tr th:only-of-type {\n",
       "        vertical-align: middle;\n",
       "    }\n",
       "\n",
       "    .dataframe tbody tr th {\n",
       "        vertical-align: top;\n",
       "    }\n",
       "\n",
       "    .dataframe thead th {\n",
       "        text-align: right;\n",
       "    }\n",
       "</style>\n",
       "<table border=\"1\" class=\"dataframe\">\n",
       "  <thead>\n",
       "    <tr style=\"text-align: right;\">\n",
       "      <th></th>\n",
       "      <th>Series Name</th>\n",
       "      <th>Series Code</th>\n",
       "      <th>Country Name</th>\n",
       "      <th>Country Code</th>\n",
       "      <th>2010 [YR2010]</th>\n",
       "      <th>2011 [YR2011]</th>\n",
       "      <th>2012 [YR2012]</th>\n",
       "      <th>2013 [YR2013]</th>\n",
       "      <th>2014 [YR2014]</th>\n",
       "      <th>2015 [YR2015]</th>\n",
       "      <th>2016 [YR2016]</th>\n",
       "      <th>2017 [YR2017]</th>\n",
       "      <th>Average</th>\n",
       "      <th>GDP growth rate (2015 to 2016)</th>\n",
       "    </tr>\n",
       "  </thead>\n",
       "  <tbody>\n",
       "    <tr>\n",
       "      <th>0</th>\n",
       "      <td>Access to electricity (% of population)</td>\n",
       "      <td>EG.ELC.ACCS.ZS</td>\n",
       "      <td>Afghanistan</td>\n",
       "      <td>AFG</td>\n",
       "      <td>42.700000</td>\n",
       "      <td>61.514420</td>\n",
       "      <td>69.100000</td>\n",
       "      <td>75.154373</td>\n",
       "      <td>89.5</td>\n",
       "      <td>NaN</td>\n",
       "      <td>NaN</td>\n",
       "      <td>NaN</td>\n",
       "      <td>67.593759</td>\n",
       "      <td>NaN</td>\n",
       "    </tr>\n",
       "    <tr>\n",
       "      <th>1</th>\n",
       "      <td>Access to electricity (% of population)</td>\n",
       "      <td>EG.ELC.ACCS.ZS</td>\n",
       "      <td>Albania</td>\n",
       "      <td>ALB</td>\n",
       "      <td>100.000000</td>\n",
       "      <td>100.000000</td>\n",
       "      <td>100.000000</td>\n",
       "      <td>100.000000</td>\n",
       "      <td>100.0</td>\n",
       "      <td>NaN</td>\n",
       "      <td>NaN</td>\n",
       "      <td>NaN</td>\n",
       "      <td>100.000000</td>\n",
       "      <td>NaN</td>\n",
       "    </tr>\n",
       "    <tr>\n",
       "      <th>2</th>\n",
       "      <td>Access to electricity (% of population)</td>\n",
       "      <td>EG.ELC.ACCS.ZS</td>\n",
       "      <td>Algeria</td>\n",
       "      <td>DZA</td>\n",
       "      <td>99.711174</td>\n",
       "      <td>99.889542</td>\n",
       "      <td>99.973084</td>\n",
       "      <td>99.996918</td>\n",
       "      <td>100.0</td>\n",
       "      <td>NaN</td>\n",
       "      <td>NaN</td>\n",
       "      <td>NaN</td>\n",
       "      <td>99.914143</td>\n",
       "      <td>NaN</td>\n",
       "    </tr>\n",
       "    <tr>\n",
       "      <th>3</th>\n",
       "      <td>Access to electricity (% of population)</td>\n",
       "      <td>EG.ELC.ACCS.ZS</td>\n",
       "      <td>Andorra</td>\n",
       "      <td>AND</td>\n",
       "      <td>100.000000</td>\n",
       "      <td>100.000000</td>\n",
       "      <td>100.000000</td>\n",
       "      <td>100.000000</td>\n",
       "      <td>100.0</td>\n",
       "      <td>NaN</td>\n",
       "      <td>NaN</td>\n",
       "      <td>NaN</td>\n",
       "      <td>100.000000</td>\n",
       "      <td>NaN</td>\n",
       "    </tr>\n",
       "    <tr>\n",
       "      <th>4</th>\n",
       "      <td>Access to electricity (% of population)</td>\n",
       "      <td>EG.ELC.ACCS.ZS</td>\n",
       "      <td>Angola</td>\n",
       "      <td>AGO</td>\n",
       "      <td>35.132019</td>\n",
       "      <td>34.600000</td>\n",
       "      <td>33.879036</td>\n",
       "      <td>33.256046</td>\n",
       "      <td>32.0</td>\n",
       "      <td>NaN</td>\n",
       "      <td>NaN</td>\n",
       "      <td>NaN</td>\n",
       "      <td>33.773420</td>\n",
       "      <td>NaN</td>\n",
       "    </tr>\n",
       "  </tbody>\n",
       "</table>\n",
       "</div>"
      ],
      "text/plain": [
       "                               Series Name     Series Code Country Name  \\\n",
       "0  Access to electricity (% of population)  EG.ELC.ACCS.ZS  Afghanistan   \n",
       "1  Access to electricity (% of population)  EG.ELC.ACCS.ZS      Albania   \n",
       "2  Access to electricity (% of population)  EG.ELC.ACCS.ZS      Algeria   \n",
       "3  Access to electricity (% of population)  EG.ELC.ACCS.ZS      Andorra   \n",
       "4  Access to electricity (% of population)  EG.ELC.ACCS.ZS       Angola   \n",
       "\n",
       "  Country Code  2010 [YR2010]  2011 [YR2011]  2012 [YR2012]  2013 [YR2013]  \\\n",
       "0          AFG      42.700000      61.514420      69.100000      75.154373   \n",
       "1          ALB     100.000000     100.000000     100.000000     100.000000   \n",
       "2          DZA      99.711174      99.889542      99.973084      99.996918   \n",
       "3          AND     100.000000     100.000000     100.000000     100.000000   \n",
       "4          AGO      35.132019      34.600000      33.879036      33.256046   \n",
       "\n",
       "   2014 [YR2014]  2015 [YR2015]  2016 [YR2016]  2017 [YR2017]     Average  \\\n",
       "0           89.5            NaN            NaN            NaN   67.593759   \n",
       "1          100.0            NaN            NaN            NaN  100.000000   \n",
       "2          100.0            NaN            NaN            NaN   99.914143   \n",
       "3          100.0            NaN            NaN            NaN  100.000000   \n",
       "4           32.0            NaN            NaN            NaN   33.773420   \n",
       "\n",
       "  GDP growth rate (2015 to 2016)  \n",
       "0                            NaN  \n",
       "1                            NaN  \n",
       "2                            NaN  \n",
       "3                            NaN  \n",
       "4                            NaN  "
      ]
     },
     "execution_count": 3,
     "metadata": {},
     "output_type": "execute_result"
    }
   ],
   "source": [
    "data.head()"
   ]
  },
  {
   "cell_type": "code",
   "execution_count": 4,
   "metadata": {},
   "outputs": [],
   "source": [
    "data2010 = pd.pivot_table(data, values=['2010 [YR2010]'], index=['Country Name'],\n",
    "                    columns=['Series Name'])"
   ]
  },
  {
   "cell_type": "code",
   "execution_count": 5,
   "metadata": {},
   "outputs": [
    {
     "ename": "NameError",
     "evalue": "name 'table' is not defined",
     "output_type": "error",
     "traceback": [
      "\u001b[1;31m---------------------------------------------------------------------------\u001b[0m",
      "\u001b[1;31mNameError\u001b[0m                                 Traceback (most recent call last)",
      "\u001b[1;32m<ipython-input-5-062e138183cc>\u001b[0m in \u001b[0;36m<module>\u001b[1;34m\u001b[0m\n\u001b[1;32m----> 1\u001b[1;33m \u001b[0mtable\u001b[0m\u001b[1;33m.\u001b[0m\u001b[0mhead\u001b[0m\u001b[1;33m(\u001b[0m\u001b[1;33m)\u001b[0m\u001b[1;33m\u001b[0m\u001b[1;33m\u001b[0m\u001b[0m\n\u001b[0m",
      "\u001b[1;31mNameError\u001b[0m: name 'table' is not defined"
     ]
    }
   ],
   "source": []
  },
  {
   "cell_type": "code",
   "execution_count": 6,
   "metadata": {},
   "outputs": [
    {
     "ename": "NameError",
     "evalue": "name 'table' is not defined",
     "output_type": "error",
     "traceback": [
      "\u001b[1;31m---------------------------------------------------------------------------\u001b[0m",
      "\u001b[1;31mNameError\u001b[0m                                 Traceback (most recent call last)",
      "\u001b[1;32m<ipython-input-6-d0f1e0001f79>\u001b[0m in \u001b[0;36m<module>\u001b[1;34m\u001b[0m\n\u001b[1;32m----> 1\u001b[1;33m \u001b[0mcols\u001b[0m\u001b[1;33m=\u001b[0m \u001b[0mlist\u001b[0m \u001b[1;33m(\u001b[0m\u001b[0mtable\u001b[0m\u001b[1;33m.\u001b[0m\u001b[0mcolumns\u001b[0m\u001b[1;33m)\u001b[0m\u001b[1;33m\u001b[0m\u001b[1;33m\u001b[0m\u001b[0m\n\u001b[0m",
      "\u001b[1;31mNameError\u001b[0m: name 'table' is not defined"
     ]
    }
   ],
   "source": []
  },
  {
   "cell_type": "code",
   "execution_count": null,
   "metadata": {},
   "outputs": [],
   "source": []
  },
  {
   "cell_type": "code",
   "execution_count": 7,
   "metadata": {},
   "outputs": [
    {
     "data": {
      "text/html": [
       "<div>\n",
       "<style scoped>\n",
       "    .dataframe tbody tr th:only-of-type {\n",
       "        vertical-align: middle;\n",
       "    }\n",
       "\n",
       "    .dataframe tbody tr th {\n",
       "        vertical-align: top;\n",
       "    }\n",
       "\n",
       "    .dataframe thead tr th {\n",
       "        text-align: left;\n",
       "    }\n",
       "\n",
       "    .dataframe thead tr:last-of-type th {\n",
       "        text-align: right;\n",
       "    }\n",
       "</style>\n",
       "<table border=\"1\" class=\"dataframe\">\n",
       "  <thead>\n",
       "    <tr>\n",
       "      <th></th>\n",
       "      <th colspan=\"6\" halign=\"left\">2010 [YR2010]</th>\n",
       "    </tr>\n",
       "    <tr>\n",
       "      <th>Series Name</th>\n",
       "      <th>Access to electricity (% of population)</th>\n",
       "      <th>CO2 emissions (metric tons per capita)</th>\n",
       "      <th>Electric power consumption (kWh per capita)</th>\n",
       "      <th>Electricity production from renewable sources, excluding hydroelectric (% of total)</th>\n",
       "      <th>GDP (constant 2010 US$)</th>\n",
       "      <th>Renewable electricity output (% of total electricity output)</th>\n",
       "    </tr>\n",
       "    <tr>\n",
       "      <th>Country Name</th>\n",
       "      <th></th>\n",
       "      <th></th>\n",
       "      <th></th>\n",
       "      <th></th>\n",
       "      <th></th>\n",
       "      <th></th>\n",
       "    </tr>\n",
       "  </thead>\n",
       "  <tbody>\n",
       "    <tr>\n",
       "      <th>Afghanistan</th>\n",
       "      <td>42.700000</td>\n",
       "      <td>0.293837</td>\n",
       "      <td>NaN</td>\n",
       "      <td>NaN</td>\n",
       "      <td>1.593680e+10</td>\n",
       "      <td>85.986547</td>\n",
       "    </tr>\n",
       "    <tr>\n",
       "      <th>Albania</th>\n",
       "      <td>100.000000</td>\n",
       "      <td>1.578574</td>\n",
       "      <td>1943.343354</td>\n",
       "      <td>0.0</td>\n",
       "      <td>1.192695e+10</td>\n",
       "      <td>99.986786</td>\n",
       "    </tr>\n",
       "    <tr>\n",
       "      <th>Algeria</th>\n",
       "      <td>99.711174</td>\n",
       "      <td>3.299704</td>\n",
       "      <td>1012.690836</td>\n",
       "      <td>0.0</td>\n",
       "      <td>1.612070e+11</td>\n",
       "      <td>0.380461</td>\n",
       "    </tr>\n",
       "    <tr>\n",
       "      <th>American Samoa</th>\n",
       "      <td>NaN</td>\n",
       "      <td>NaN</td>\n",
       "      <td>NaN</td>\n",
       "      <td>NaN</td>\n",
       "      <td>5.760000e+08</td>\n",
       "      <td>0.000000</td>\n",
       "    </tr>\n",
       "    <tr>\n",
       "      <th>Andorra</th>\n",
       "      <td>100.000000</td>\n",
       "      <td>6.122595</td>\n",
       "      <td>NaN</td>\n",
       "      <td>NaN</td>\n",
       "      <td>3.346517e+09</td>\n",
       "      <td>88.731145</td>\n",
       "    </tr>\n",
       "  </tbody>\n",
       "</table>\n",
       "</div>"
      ],
      "text/plain": [
       "                                         2010 [YR2010]  \\\n",
       "Series Name    Access to electricity (% of population)   \n",
       "Country Name                                             \n",
       "Afghanistan                                  42.700000   \n",
       "Albania                                     100.000000   \n",
       "Algeria                                      99.711174   \n",
       "American Samoa                                     NaN   \n",
       "Andorra                                     100.000000   \n",
       "\n",
       "                                                       \\\n",
       "Series Name    CO2 emissions (metric tons per capita)   \n",
       "Country Name                                            \n",
       "Afghanistan                                  0.293837   \n",
       "Albania                                      1.578574   \n",
       "Algeria                                      3.299704   \n",
       "American Samoa                                    NaN   \n",
       "Andorra                                      6.122595   \n",
       "\n",
       "                                                            \\\n",
       "Series Name    Electric power consumption (kWh per capita)   \n",
       "Country Name                                                 \n",
       "Afghanistan                                            NaN   \n",
       "Albania                                        1943.343354   \n",
       "Algeria                                        1012.690836   \n",
       "American Samoa                                         NaN   \n",
       "Andorra                                                NaN   \n",
       "\n",
       "                                                                                                    \\\n",
       "Series Name    Electricity production from renewable sources, excluding hydroelectric (% of total)   \n",
       "Country Name                                                                                         \n",
       "Afghanistan                                                   NaN                                    \n",
       "Albania                                                       0.0                                    \n",
       "Algeria                                                       0.0                                    \n",
       "American Samoa                                                NaN                                    \n",
       "Andorra                                                       NaN                                    \n",
       "\n",
       "                                        \\\n",
       "Series Name    GDP (constant 2010 US$)   \n",
       "Country Name                             \n",
       "Afghanistan               1.593680e+10   \n",
       "Albania                   1.192695e+10   \n",
       "Algeria                   1.612070e+11   \n",
       "American Samoa            5.760000e+08   \n",
       "Andorra                   3.346517e+09   \n",
       "\n",
       "                                                                             \n",
       "Series Name    Renewable electricity output (% of total electricity output)  \n",
       "Country Name                                                                 \n",
       "Afghanistan                                             85.986547            \n",
       "Albania                                                 99.986786            \n",
       "Algeria                                                  0.380461            \n",
       "American Samoa                                           0.000000            \n",
       "Andorra                                                 88.731145            "
      ]
     },
     "execution_count": 7,
     "metadata": {},
     "output_type": "execute_result"
    }
   ],
   "source": [
    "data2010.head()"
   ]
  },
  {
   "cell_type": "code",
   "execution_count": 8,
   "metadata": {},
   "outputs": [
    {
     "data": {
      "text/plain": [
       "MultiIndex([('2010 [YR2010]', ...),\n",
       "            ('2010 [YR2010]', ...),\n",
       "            ('2010 [YR2010]', ...),\n",
       "            ('2010 [YR2010]', ...),\n",
       "            ('2010 [YR2010]', ...),\n",
       "            ('2010 [YR2010]', ...)],\n",
       "           names=[None, 'Series Name'])"
      ]
     },
     "execution_count": 8,
     "metadata": {},
     "output_type": "execute_result"
    }
   ],
   "source": [
    "data2010.columns"
   ]
  },
  {
   "cell_type": "code",
   "execution_count": 9,
   "metadata": {},
   "outputs": [],
   "source": [
    "data2010.reset_index(level=[0], inplace = True)"
   ]
  },
  {
   "cell_type": "code",
   "execution_count": 10,
   "metadata": {},
   "outputs": [
    {
     "data": {
      "text/html": [
       "<div>\n",
       "<style scoped>\n",
       "    .dataframe tbody tr th:only-of-type {\n",
       "        vertical-align: middle;\n",
       "    }\n",
       "\n",
       "    .dataframe tbody tr th {\n",
       "        vertical-align: top;\n",
       "    }\n",
       "\n",
       "    .dataframe thead tr th {\n",
       "        text-align: left;\n",
       "    }\n",
       "</style>\n",
       "<table border=\"1\" class=\"dataframe\">\n",
       "  <thead>\n",
       "    <tr>\n",
       "      <th></th>\n",
       "      <th>Country Name</th>\n",
       "      <th colspan=\"6\" halign=\"left\">2010 [YR2010]</th>\n",
       "    </tr>\n",
       "    <tr>\n",
       "      <th>Series Name</th>\n",
       "      <th></th>\n",
       "      <th>Access to electricity (% of population)</th>\n",
       "      <th>CO2 emissions (metric tons per capita)</th>\n",
       "      <th>Electric power consumption (kWh per capita)</th>\n",
       "      <th>Electricity production from renewable sources, excluding hydroelectric (% of total)</th>\n",
       "      <th>GDP (constant 2010 US$)</th>\n",
       "      <th>Renewable electricity output (% of total electricity output)</th>\n",
       "    </tr>\n",
       "  </thead>\n",
       "  <tbody>\n",
       "    <tr>\n",
       "      <th>0</th>\n",
       "      <td>Afghanistan</td>\n",
       "      <td>42.700000</td>\n",
       "      <td>0.293837</td>\n",
       "      <td>NaN</td>\n",
       "      <td>NaN</td>\n",
       "      <td>1.593680e+10</td>\n",
       "      <td>85.986547</td>\n",
       "    </tr>\n",
       "    <tr>\n",
       "      <th>1</th>\n",
       "      <td>Albania</td>\n",
       "      <td>100.000000</td>\n",
       "      <td>1.578574</td>\n",
       "      <td>1943.343354</td>\n",
       "      <td>0.0</td>\n",
       "      <td>1.192695e+10</td>\n",
       "      <td>99.986786</td>\n",
       "    </tr>\n",
       "    <tr>\n",
       "      <th>2</th>\n",
       "      <td>Algeria</td>\n",
       "      <td>99.711174</td>\n",
       "      <td>3.299704</td>\n",
       "      <td>1012.690836</td>\n",
       "      <td>0.0</td>\n",
       "      <td>1.612070e+11</td>\n",
       "      <td>0.380461</td>\n",
       "    </tr>\n",
       "    <tr>\n",
       "      <th>3</th>\n",
       "      <td>American Samoa</td>\n",
       "      <td>NaN</td>\n",
       "      <td>NaN</td>\n",
       "      <td>NaN</td>\n",
       "      <td>NaN</td>\n",
       "      <td>5.760000e+08</td>\n",
       "      <td>0.000000</td>\n",
       "    </tr>\n",
       "    <tr>\n",
       "      <th>4</th>\n",
       "      <td>Andorra</td>\n",
       "      <td>100.000000</td>\n",
       "      <td>6.122595</td>\n",
       "      <td>NaN</td>\n",
       "      <td>NaN</td>\n",
       "      <td>3.346517e+09</td>\n",
       "      <td>88.731145</td>\n",
       "    </tr>\n",
       "  </tbody>\n",
       "</table>\n",
       "</div>"
      ],
      "text/plain": [
       "               Country Name                           2010 [YR2010]  \\\n",
       "Series Name                 Access to electricity (% of population)   \n",
       "0               Afghanistan                               42.700000   \n",
       "1                   Albania                              100.000000   \n",
       "2                   Algeria                               99.711174   \n",
       "3            American Samoa                                     NaN   \n",
       "4                   Andorra                              100.000000   \n",
       "\n",
       "                                                    \\\n",
       "Series Name CO2 emissions (metric tons per capita)   \n",
       "0                                         0.293837   \n",
       "1                                         1.578574   \n",
       "2                                         3.299704   \n",
       "3                                              NaN   \n",
       "4                                         6.122595   \n",
       "\n",
       "                                                         \\\n",
       "Series Name Electric power consumption (kWh per capita)   \n",
       "0                                                   NaN   \n",
       "1                                           1943.343354   \n",
       "2                                           1012.690836   \n",
       "3                                                   NaN   \n",
       "4                                                   NaN   \n",
       "\n",
       "                                                                                                 \\\n",
       "Series Name Electricity production from renewable sources, excluding hydroelectric (% of total)   \n",
       "0                                                          NaN                                    \n",
       "1                                                          0.0                                    \n",
       "2                                                          0.0                                    \n",
       "3                                                          NaN                                    \n",
       "4                                                          NaN                                    \n",
       "\n",
       "                                     \\\n",
       "Series Name GDP (constant 2010 US$)   \n",
       "0                      1.593680e+10   \n",
       "1                      1.192695e+10   \n",
       "2                      1.612070e+11   \n",
       "3                      5.760000e+08   \n",
       "4                      3.346517e+09   \n",
       "\n",
       "                                                                          \n",
       "Series Name Renewable electricity output (% of total electricity output)  \n",
       "0                                                    85.986547            \n",
       "1                                                    99.986786            \n",
       "2                                                     0.380461            \n",
       "3                                                     0.000000            \n",
       "4                                                    88.731145            "
      ]
     },
     "execution_count": 10,
     "metadata": {},
     "output_type": "execute_result"
    }
   ],
   "source": [
    "data2010.head()"
   ]
  },
  {
   "cell_type": "code",
   "execution_count": 11,
   "metadata": {},
   "outputs": [],
   "source": [
    "data2010.columns = data2010.columns.droplevel()"
   ]
  },
  {
   "cell_type": "code",
   "execution_count": 12,
   "metadata": {},
   "outputs": [
    {
     "data": {
      "text/html": [
       "<div>\n",
       "<style scoped>\n",
       "    .dataframe tbody tr th:only-of-type {\n",
       "        vertical-align: middle;\n",
       "    }\n",
       "\n",
       "    .dataframe tbody tr th {\n",
       "        vertical-align: top;\n",
       "    }\n",
       "\n",
       "    .dataframe thead th {\n",
       "        text-align: right;\n",
       "    }\n",
       "</style>\n",
       "<table border=\"1\" class=\"dataframe\">\n",
       "  <thead>\n",
       "    <tr style=\"text-align: right;\">\n",
       "      <th>Series Name</th>\n",
       "      <th></th>\n",
       "      <th>Access to electricity (% of population)</th>\n",
       "      <th>CO2 emissions (metric tons per capita)</th>\n",
       "      <th>Electric power consumption (kWh per capita)</th>\n",
       "      <th>Electricity production from renewable sources, excluding hydroelectric (% of total)</th>\n",
       "      <th>GDP (constant 2010 US$)</th>\n",
       "      <th>Renewable electricity output (% of total electricity output)</th>\n",
       "    </tr>\n",
       "  </thead>\n",
       "  <tbody>\n",
       "    <tr>\n",
       "      <th>0</th>\n",
       "      <td>Afghanistan</td>\n",
       "      <td>42.700000</td>\n",
       "      <td>0.293837</td>\n",
       "      <td>NaN</td>\n",
       "      <td>NaN</td>\n",
       "      <td>1.593680e+10</td>\n",
       "      <td>85.986547</td>\n",
       "    </tr>\n",
       "    <tr>\n",
       "      <th>1</th>\n",
       "      <td>Albania</td>\n",
       "      <td>100.000000</td>\n",
       "      <td>1.578574</td>\n",
       "      <td>1943.343354</td>\n",
       "      <td>0.0</td>\n",
       "      <td>1.192695e+10</td>\n",
       "      <td>99.986786</td>\n",
       "    </tr>\n",
       "    <tr>\n",
       "      <th>2</th>\n",
       "      <td>Algeria</td>\n",
       "      <td>99.711174</td>\n",
       "      <td>3.299704</td>\n",
       "      <td>1012.690836</td>\n",
       "      <td>0.0</td>\n",
       "      <td>1.612070e+11</td>\n",
       "      <td>0.380461</td>\n",
       "    </tr>\n",
       "    <tr>\n",
       "      <th>3</th>\n",
       "      <td>American Samoa</td>\n",
       "      <td>NaN</td>\n",
       "      <td>NaN</td>\n",
       "      <td>NaN</td>\n",
       "      <td>NaN</td>\n",
       "      <td>5.760000e+08</td>\n",
       "      <td>0.000000</td>\n",
       "    </tr>\n",
       "    <tr>\n",
       "      <th>4</th>\n",
       "      <td>Andorra</td>\n",
       "      <td>100.000000</td>\n",
       "      <td>6.122595</td>\n",
       "      <td>NaN</td>\n",
       "      <td>NaN</td>\n",
       "      <td>3.346517e+09</td>\n",
       "      <td>88.731145</td>\n",
       "    </tr>\n",
       "  </tbody>\n",
       "</table>\n",
       "</div>"
      ],
      "text/plain": [
       "Series Name                  Access to electricity (% of population)  \\\n",
       "0               Afghanistan                                42.700000   \n",
       "1                   Albania                               100.000000   \n",
       "2                   Algeria                                99.711174   \n",
       "3            American Samoa                                      NaN   \n",
       "4                   Andorra                               100.000000   \n",
       "\n",
       "Series Name  CO2 emissions (metric tons per capita)  \\\n",
       "0                                          0.293837   \n",
       "1                                          1.578574   \n",
       "2                                          3.299704   \n",
       "3                                               NaN   \n",
       "4                                          6.122595   \n",
       "\n",
       "Series Name  Electric power consumption (kWh per capita)  \\\n",
       "0                                                    NaN   \n",
       "1                                            1943.343354   \n",
       "2                                            1012.690836   \n",
       "3                                                    NaN   \n",
       "4                                                    NaN   \n",
       "\n",
       "Series Name  Electricity production from renewable sources, excluding hydroelectric (% of total)  \\\n",
       "0                                                          NaN                                     \n",
       "1                                                          0.0                                     \n",
       "2                                                          0.0                                     \n",
       "3                                                          NaN                                     \n",
       "4                                                          NaN                                     \n",
       "\n",
       "Series Name  GDP (constant 2010 US$)  \\\n",
       "0                       1.593680e+10   \n",
       "1                       1.192695e+10   \n",
       "2                       1.612070e+11   \n",
       "3                       5.760000e+08   \n",
       "4                       3.346517e+09   \n",
       "\n",
       "Series Name  Renewable electricity output (% of total electricity output)  \n",
       "0                                                    85.986547             \n",
       "1                                                    99.986786             \n",
       "2                                                     0.380461             \n",
       "3                                                     0.000000             \n",
       "4                                                    88.731145             "
      ]
     },
     "execution_count": 12,
     "metadata": {},
     "output_type": "execute_result"
    }
   ],
   "source": [
    "data2010.head()"
   ]
  },
  {
   "cell_type": "code",
   "execution_count": 13,
   "metadata": {},
   "outputs": [],
   "source": [
    "cols = list(data2010.columns)"
   ]
  },
  {
   "cell_type": "code",
   "execution_count": 14,
   "metadata": {},
   "outputs": [],
   "source": [
    "cols[0] = 'Country'"
   ]
  },
  {
   "cell_type": "code",
   "execution_count": 15,
   "metadata": {},
   "outputs": [],
   "source": [
    "data2010.columns = cols"
   ]
  },
  {
   "cell_type": "code",
   "execution_count": 16,
   "metadata": {},
   "outputs": [
    {
     "data": {
      "text/html": [
       "<div>\n",
       "<style scoped>\n",
       "    .dataframe tbody tr th:only-of-type {\n",
       "        vertical-align: middle;\n",
       "    }\n",
       "\n",
       "    .dataframe tbody tr th {\n",
       "        vertical-align: top;\n",
       "    }\n",
       "\n",
       "    .dataframe thead th {\n",
       "        text-align: right;\n",
       "    }\n",
       "</style>\n",
       "<table border=\"1\" class=\"dataframe\">\n",
       "  <thead>\n",
       "    <tr style=\"text-align: right;\">\n",
       "      <th></th>\n",
       "      <th>Country</th>\n",
       "      <th>Access to electricity (% of population)</th>\n",
       "      <th>CO2 emissions (metric tons per capita)</th>\n",
       "      <th>Electric power consumption (kWh per capita)</th>\n",
       "      <th>Electricity production from renewable sources, excluding hydroelectric (% of total)</th>\n",
       "      <th>GDP (constant 2010 US$)</th>\n",
       "      <th>Renewable electricity output (% of total electricity output)</th>\n",
       "    </tr>\n",
       "  </thead>\n",
       "  <tbody>\n",
       "    <tr>\n",
       "      <th>0</th>\n",
       "      <td>Afghanistan</td>\n",
       "      <td>42.700000</td>\n",
       "      <td>0.293837</td>\n",
       "      <td>NaN</td>\n",
       "      <td>NaN</td>\n",
       "      <td>1.593680e+10</td>\n",
       "      <td>85.986547</td>\n",
       "    </tr>\n",
       "    <tr>\n",
       "      <th>1</th>\n",
       "      <td>Albania</td>\n",
       "      <td>100.000000</td>\n",
       "      <td>1.578574</td>\n",
       "      <td>1943.343354</td>\n",
       "      <td>0.0</td>\n",
       "      <td>1.192695e+10</td>\n",
       "      <td>99.986786</td>\n",
       "    </tr>\n",
       "    <tr>\n",
       "      <th>2</th>\n",
       "      <td>Algeria</td>\n",
       "      <td>99.711174</td>\n",
       "      <td>3.299704</td>\n",
       "      <td>1012.690836</td>\n",
       "      <td>0.0</td>\n",
       "      <td>1.612070e+11</td>\n",
       "      <td>0.380461</td>\n",
       "    </tr>\n",
       "    <tr>\n",
       "      <th>3</th>\n",
       "      <td>American Samoa</td>\n",
       "      <td>NaN</td>\n",
       "      <td>NaN</td>\n",
       "      <td>NaN</td>\n",
       "      <td>NaN</td>\n",
       "      <td>5.760000e+08</td>\n",
       "      <td>0.000000</td>\n",
       "    </tr>\n",
       "    <tr>\n",
       "      <th>4</th>\n",
       "      <td>Andorra</td>\n",
       "      <td>100.000000</td>\n",
       "      <td>6.122595</td>\n",
       "      <td>NaN</td>\n",
       "      <td>NaN</td>\n",
       "      <td>3.346517e+09</td>\n",
       "      <td>88.731145</td>\n",
       "    </tr>\n",
       "  </tbody>\n",
       "</table>\n",
       "</div>"
      ],
      "text/plain": [
       "          Country  Access to electricity (% of population)  \\\n",
       "0     Afghanistan                                42.700000   \n",
       "1         Albania                               100.000000   \n",
       "2         Algeria                                99.711174   \n",
       "3  American Samoa                                      NaN   \n",
       "4         Andorra                               100.000000   \n",
       "\n",
       "   CO2 emissions (metric tons per capita)  \\\n",
       "0                                0.293837   \n",
       "1                                1.578574   \n",
       "2                                3.299704   \n",
       "3                                     NaN   \n",
       "4                                6.122595   \n",
       "\n",
       "   Electric power consumption (kWh per capita)  \\\n",
       "0                                          NaN   \n",
       "1                                  1943.343354   \n",
       "2                                  1012.690836   \n",
       "3                                          NaN   \n",
       "4                                          NaN   \n",
       "\n",
       "   Electricity production from renewable sources, excluding hydroelectric (% of total)  \\\n",
       "0                                                NaN                                     \n",
       "1                                                0.0                                     \n",
       "2                                                0.0                                     \n",
       "3                                                NaN                                     \n",
       "4                                                NaN                                     \n",
       "\n",
       "   GDP (constant 2010 US$)  \\\n",
       "0             1.593680e+10   \n",
       "1             1.192695e+10   \n",
       "2             1.612070e+11   \n",
       "3             5.760000e+08   \n",
       "4             3.346517e+09   \n",
       "\n",
       "   Renewable electricity output (% of total electricity output)  \n",
       "0                                          85.986547             \n",
       "1                                          99.986786             \n",
       "2                                           0.380461             \n",
       "3                                           0.000000             \n",
       "4                                          88.731145             "
      ]
     },
     "execution_count": 16,
     "metadata": {},
     "output_type": "execute_result"
    }
   ],
   "source": [
    "data2010.head()"
   ]
  },
  {
   "cell_type": "code",
   "execution_count": 17,
   "metadata": {},
   "outputs": [
    {
     "data": {
      "text/html": [
       "<div>\n",
       "<style scoped>\n",
       "    .dataframe tbody tr th:only-of-type {\n",
       "        vertical-align: middle;\n",
       "    }\n",
       "\n",
       "    .dataframe tbody tr th {\n",
       "        vertical-align: top;\n",
       "    }\n",
       "\n",
       "    .dataframe thead th {\n",
       "        text-align: right;\n",
       "    }\n",
       "</style>\n",
       "<table border=\"1\" class=\"dataframe\">\n",
       "  <thead>\n",
       "    <tr style=\"text-align: right;\">\n",
       "      <th></th>\n",
       "      <th>Access to electricity (% of population)</th>\n",
       "      <th>CO2 emissions (metric tons per capita)</th>\n",
       "      <th>Electric power consumption (kWh per capita)</th>\n",
       "      <th>Electricity production from renewable sources, excluding hydroelectric (% of total)</th>\n",
       "      <th>GDP (constant 2010 US$)</th>\n",
       "      <th>Renewable electricity output (% of total electricity output)</th>\n",
       "    </tr>\n",
       "  </thead>\n",
       "  <tbody>\n",
       "    <tr>\n",
       "      <th>count</th>\n",
       "      <td>214.000000</td>\n",
       "      <td>203.000000</td>\n",
       "      <td>141.000000</td>\n",
       "      <td>141.000000</td>\n",
       "      <td>2.030000e+02</td>\n",
       "      <td>211.000000</td>\n",
       "    </tr>\n",
       "    <tr>\n",
       "      <th>mean</th>\n",
       "      <td>79.670775</td>\n",
       "      <td>4.939838</td>\n",
       "      <td>4265.911960</td>\n",
       "      <td>3.631033</td>\n",
       "      <td>3.219169e+11</td>\n",
       "      <td>29.981644</td>\n",
       "    </tr>\n",
       "    <tr>\n",
       "      <th>std</th>\n",
       "      <td>30.592943</td>\n",
       "      <td>6.293769</td>\n",
       "      <td>5937.419278</td>\n",
       "      <td>6.525178</td>\n",
       "      <td>1.269778e+12</td>\n",
       "      <td>32.920886</td>\n",
       "    </tr>\n",
       "    <tr>\n",
       "      <th>min</th>\n",
       "      <td>1.500000</td>\n",
       "      <td>0.024260</td>\n",
       "      <td>24.400935</td>\n",
       "      <td>0.000000</td>\n",
       "      <td>3.182352e+07</td>\n",
       "      <td>0.000000</td>\n",
       "    </tr>\n",
       "    <tr>\n",
       "      <th>25%</th>\n",
       "      <td>64.679308</td>\n",
       "      <td>0.664691</td>\n",
       "      <td>774.368391</td>\n",
       "      <td>0.000000</td>\n",
       "      <td>4.988683e+09</td>\n",
       "      <td>0.411469</td>\n",
       "    </tr>\n",
       "    <tr>\n",
       "      <th>50%</th>\n",
       "      <td>98.927246</td>\n",
       "      <td>2.599658</td>\n",
       "      <td>2491.631262</td>\n",
       "      <td>0.855118</td>\n",
       "      <td>2.052329e+10</td>\n",
       "      <td>16.602852</td>\n",
       "    </tr>\n",
       "    <tr>\n",
       "      <th>75%</th>\n",
       "      <td>100.000000</td>\n",
       "      <td>6.600935</td>\n",
       "      <td>5700.855864</td>\n",
       "      <td>3.478093</td>\n",
       "      <td>1.470550e+11</td>\n",
       "      <td>54.454666</td>\n",
       "    </tr>\n",
       "    <tr>\n",
       "      <th>max</th>\n",
       "      <td>100.000000</td>\n",
       "      <td>40.742018</td>\n",
       "      <td>51439.908690</td>\n",
       "      <td>31.928362</td>\n",
       "      <td>1.496440e+13</td>\n",
       "      <td>100.000000</td>\n",
       "    </tr>\n",
       "  </tbody>\n",
       "</table>\n",
       "</div>"
      ],
      "text/plain": [
       "       Access to electricity (% of population)  \\\n",
       "count                               214.000000   \n",
       "mean                                 79.670775   \n",
       "std                                  30.592943   \n",
       "min                                   1.500000   \n",
       "25%                                  64.679308   \n",
       "50%                                  98.927246   \n",
       "75%                                 100.000000   \n",
       "max                                 100.000000   \n",
       "\n",
       "       CO2 emissions (metric tons per capita)  \\\n",
       "count                              203.000000   \n",
       "mean                                 4.939838   \n",
       "std                                  6.293769   \n",
       "min                                  0.024260   \n",
       "25%                                  0.664691   \n",
       "50%                                  2.599658   \n",
       "75%                                  6.600935   \n",
       "max                                 40.742018   \n",
       "\n",
       "       Electric power consumption (kWh per capita)  \\\n",
       "count                                   141.000000   \n",
       "mean                                   4265.911960   \n",
       "std                                    5937.419278   \n",
       "min                                      24.400935   \n",
       "25%                                     774.368391   \n",
       "50%                                    2491.631262   \n",
       "75%                                    5700.855864   \n",
       "max                                   51439.908690   \n",
       "\n",
       "       Electricity production from renewable sources, excluding hydroelectric (% of total)  \\\n",
       "count                                         141.000000                                     \n",
       "mean                                            3.631033                                     \n",
       "std                                             6.525178                                     \n",
       "min                                             0.000000                                     \n",
       "25%                                             0.000000                                     \n",
       "50%                                             0.855118                                     \n",
       "75%                                             3.478093                                     \n",
       "max                                            31.928362                                     \n",
       "\n",
       "       GDP (constant 2010 US$)  \\\n",
       "count             2.030000e+02   \n",
       "mean              3.219169e+11   \n",
       "std               1.269778e+12   \n",
       "min               3.182352e+07   \n",
       "25%               4.988683e+09   \n",
       "50%               2.052329e+10   \n",
       "75%               1.470550e+11   \n",
       "max               1.496440e+13   \n",
       "\n",
       "       Renewable electricity output (% of total electricity output)  \n",
       "count                                         211.000000             \n",
       "mean                                           29.981644             \n",
       "std                                            32.920886             \n",
       "min                                             0.000000             \n",
       "25%                                             0.411469             \n",
       "50%                                            16.602852             \n",
       "75%                                            54.454666             \n",
       "max                                           100.000000             "
      ]
     },
     "execution_count": 17,
     "metadata": {},
     "output_type": "execute_result"
    }
   ],
   "source": [
    "data2010.describe()"
   ]
  },
  {
   "cell_type": "code",
   "execution_count": 18,
   "metadata": {},
   "outputs": [],
   "source": [
    "from pandas_profiling import ProfileReport"
   ]
  },
  {
   "cell_type": "code",
   "execution_count": 19,
   "metadata": {},
   "outputs": [],
   "source": [
    "prof = ProfileReport(data2010)"
   ]
  },
  {
   "cell_type": "code",
   "execution_count": 20,
   "metadata": {},
   "outputs": [
    {
     "data": {
      "application/vnd.jupyter.widget-view+json": {
       "model_id": "0315d8a5493e4a7e82573e298dee4e33",
       "version_major": 2,
       "version_minor": 0
      },
      "text/plain": [
       "HBox(children=(FloatProgress(value=0.0, description='Summarize dataset', max=21.0, style=ProgressStyle(descrip…"
      ]
     },
     "metadata": {},
     "output_type": "display_data"
    },
    {
     "name": "stdout",
     "output_type": "stream",
     "text": [
      "\n"
     ]
    },
    {
     "data": {
      "application/vnd.jupyter.widget-view+json": {
       "model_id": "f46ef1102f6f4eb3970ebcf690412802",
       "version_major": 2,
       "version_minor": 0
      },
      "text/plain": [
       "HBox(children=(FloatProgress(value=0.0, description='Generate report structure', max=1.0, style=ProgressStyle(…"
      ]
     },
     "metadata": {},
     "output_type": "display_data"
    },
    {
     "name": "stdout",
     "output_type": "stream",
     "text": [
      "\n"
     ]
    },
    {
     "data": {
      "application/vnd.jupyter.widget-view+json": {
       "model_id": "c372479fd4ba4b5588fe07d177d0049f",
       "version_major": 2,
       "version_minor": 0
      },
      "text/plain": [
       "HBox(children=(FloatProgress(value=0.0, description='Render HTML', max=1.0, style=ProgressStyle(description_wi…"
      ]
     },
     "metadata": {},
     "output_type": "display_data"
    },
    {
     "name": "stdout",
     "output_type": "stream",
     "text": [
      "\n"
     ]
    },
    {
     "data": {
      "application/vnd.jupyter.widget-view+json": {
       "model_id": "9ade69fa3593403e99a5b6a9f1c46ae2",
       "version_major": 2,
       "version_minor": 0
      },
      "text/plain": [
       "HBox(children=(FloatProgress(value=0.0, description='Export report to file', max=1.0, style=ProgressStyle(desc…"
      ]
     },
     "metadata": {},
     "output_type": "display_data"
    },
    {
     "name": "stdout",
     "output_type": "stream",
     "text": [
      "\n"
     ]
    }
   ],
   "source": [
    "prof.to_file(output_file='output.html')"
   ]
  },
  {
   "cell_type": "code",
   "execution_count": 21,
   "metadata": {},
   "outputs": [],
   "source": [
    "data2010.fillna(data2010.mean(), inplace = True)"
   ]
  },
  {
   "cell_type": "code",
   "execution_count": 22,
   "metadata": {},
   "outputs": [
    {
     "data": {
      "text/html": [
       "<div>\n",
       "<style scoped>\n",
       "    .dataframe tbody tr th:only-of-type {\n",
       "        vertical-align: middle;\n",
       "    }\n",
       "\n",
       "    .dataframe tbody tr th {\n",
       "        vertical-align: top;\n",
       "    }\n",
       "\n",
       "    .dataframe thead th {\n",
       "        text-align: right;\n",
       "    }\n",
       "</style>\n",
       "<table border=\"1\" class=\"dataframe\">\n",
       "  <thead>\n",
       "    <tr style=\"text-align: right;\">\n",
       "      <th></th>\n",
       "      <th>Access to electricity (% of population)</th>\n",
       "      <th>CO2 emissions (metric tons per capita)</th>\n",
       "      <th>Electric power consumption (kWh per capita)</th>\n",
       "      <th>Electricity production from renewable sources, excluding hydroelectric (% of total)</th>\n",
       "      <th>GDP (constant 2010 US$)</th>\n",
       "      <th>Renewable electricity output (% of total electricity output)</th>\n",
       "    </tr>\n",
       "  </thead>\n",
       "  <tbody>\n",
       "    <tr>\n",
       "      <th>count</th>\n",
       "      <td>217.000000</td>\n",
       "      <td>217.000000</td>\n",
       "      <td>217.000000</td>\n",
       "      <td>217.000000</td>\n",
       "      <td>2.170000e+02</td>\n",
       "      <td>217.000000</td>\n",
       "    </tr>\n",
       "    <tr>\n",
       "      <th>mean</th>\n",
       "      <td>79.670775</td>\n",
       "      <td>4.939838</td>\n",
       "      <td>4265.911960</td>\n",
       "      <td>3.631033</td>\n",
       "      <td>3.219169e+11</td>\n",
       "      <td>29.981644</td>\n",
       "    </tr>\n",
       "    <tr>\n",
       "      <th>std</th>\n",
       "      <td>30.379749</td>\n",
       "      <td>6.086388</td>\n",
       "      <td>4780.076648</td>\n",
       "      <td>5.253267</td>\n",
       "      <td>1.227939e+12</td>\n",
       "      <td>32.460431</td>\n",
       "    </tr>\n",
       "    <tr>\n",
       "      <th>min</th>\n",
       "      <td>1.500000</td>\n",
       "      <td>0.024260</td>\n",
       "      <td>24.400935</td>\n",
       "      <td>0.000000</td>\n",
       "      <td>3.182352e+07</td>\n",
       "      <td>0.000000</td>\n",
       "    </tr>\n",
       "    <tr>\n",
       "      <th>25%</th>\n",
       "      <td>65.122673</td>\n",
       "      <td>0.790571</td>\n",
       "      <td>1603.431374</td>\n",
       "      <td>0.110639</td>\n",
       "      <td>5.642179e+09</td>\n",
       "      <td>0.494011</td>\n",
       "    </tr>\n",
       "    <tr>\n",
       "      <th>50%</th>\n",
       "      <td>98.820000</td>\n",
       "      <td>3.203935</td>\n",
       "      <td>4265.911960</td>\n",
       "      <td>3.631033</td>\n",
       "      <td>2.556225e+10</td>\n",
       "      <td>17.434099</td>\n",
       "    </tr>\n",
       "    <tr>\n",
       "      <th>75%</th>\n",
       "      <td>100.000000</td>\n",
       "      <td>6.302578</td>\n",
       "      <td>4265.911960</td>\n",
       "      <td>3.631033</td>\n",
       "      <td>2.286380e+11</td>\n",
       "      <td>53.795607</td>\n",
       "    </tr>\n",
       "    <tr>\n",
       "      <th>max</th>\n",
       "      <td>100.000000</td>\n",
       "      <td>40.742018</td>\n",
       "      <td>51439.908690</td>\n",
       "      <td>31.928362</td>\n",
       "      <td>1.496440e+13</td>\n",
       "      <td>100.000000</td>\n",
       "    </tr>\n",
       "  </tbody>\n",
       "</table>\n",
       "</div>"
      ],
      "text/plain": [
       "       Access to electricity (% of population)  \\\n",
       "count                               217.000000   \n",
       "mean                                 79.670775   \n",
       "std                                  30.379749   \n",
       "min                                   1.500000   \n",
       "25%                                  65.122673   \n",
       "50%                                  98.820000   \n",
       "75%                                 100.000000   \n",
       "max                                 100.000000   \n",
       "\n",
       "       CO2 emissions (metric tons per capita)  \\\n",
       "count                              217.000000   \n",
       "mean                                 4.939838   \n",
       "std                                  6.086388   \n",
       "min                                  0.024260   \n",
       "25%                                  0.790571   \n",
       "50%                                  3.203935   \n",
       "75%                                  6.302578   \n",
       "max                                 40.742018   \n",
       "\n",
       "       Electric power consumption (kWh per capita)  \\\n",
       "count                                   217.000000   \n",
       "mean                                   4265.911960   \n",
       "std                                    4780.076648   \n",
       "min                                      24.400935   \n",
       "25%                                    1603.431374   \n",
       "50%                                    4265.911960   \n",
       "75%                                    4265.911960   \n",
       "max                                   51439.908690   \n",
       "\n",
       "       Electricity production from renewable sources, excluding hydroelectric (% of total)  \\\n",
       "count                                         217.000000                                     \n",
       "mean                                            3.631033                                     \n",
       "std                                             5.253267                                     \n",
       "min                                             0.000000                                     \n",
       "25%                                             0.110639                                     \n",
       "50%                                             3.631033                                     \n",
       "75%                                             3.631033                                     \n",
       "max                                            31.928362                                     \n",
       "\n",
       "       GDP (constant 2010 US$)  \\\n",
       "count             2.170000e+02   \n",
       "mean              3.219169e+11   \n",
       "std               1.227939e+12   \n",
       "min               3.182352e+07   \n",
       "25%               5.642179e+09   \n",
       "50%               2.556225e+10   \n",
       "75%               2.286380e+11   \n",
       "max               1.496440e+13   \n",
       "\n",
       "       Renewable electricity output (% of total electricity output)  \n",
       "count                                         217.000000             \n",
       "mean                                           29.981644             \n",
       "std                                            32.460431             \n",
       "min                                             0.000000             \n",
       "25%                                             0.494011             \n",
       "50%                                            17.434099             \n",
       "75%                                            53.795607             \n",
       "max                                           100.000000             "
      ]
     },
     "execution_count": 22,
     "metadata": {},
     "output_type": "execute_result"
    }
   ],
   "source": [
    "data2010.describe()"
   ]
  },
  {
   "cell_type": "code",
   "execution_count": 23,
   "metadata": {},
   "outputs": [],
   "source": [
    "from sklearn.preprocessing import StandardScaler\n"
   ]
  },
  {
   "cell_type": "code",
   "execution_count": 24,
   "metadata": {},
   "outputs": [],
   "source": [
    "scaler = StandardScaler()"
   ]
  },
  {
   "cell_type": "code",
   "execution_count": 40,
   "metadata": {},
   "outputs": [],
   "source": [
    "scaled = scaler.fit_transform(data2010[cols[1:]])"
   ]
  },
  {
   "cell_type": "code",
   "execution_count": 46,
   "metadata": {},
   "outputs": [],
   "source": [
    "scaled2010 = pd.DataFrame(scaled)"
   ]
  },
  {
   "cell_type": "code",
   "execution_count": 47,
   "metadata": {},
   "outputs": [
    {
     "data": {
      "text/html": [
       "<div>\n",
       "<style scoped>\n",
       "    .dataframe tbody tr th:only-of-type {\n",
       "        vertical-align: middle;\n",
       "    }\n",
       "\n",
       "    .dataframe tbody tr th {\n",
       "        vertical-align: top;\n",
       "    }\n",
       "\n",
       "    .dataframe thead th {\n",
       "        text-align: right;\n",
       "    }\n",
       "</style>\n",
       "<table border=\"1\" class=\"dataframe\">\n",
       "  <thead>\n",
       "    <tr style=\"text-align: right;\">\n",
       "      <th></th>\n",
       "      <th>0</th>\n",
       "      <th>1</th>\n",
       "      <th>2</th>\n",
       "      <th>3</th>\n",
       "      <th>4</th>\n",
       "      <th>5</th>\n",
       "    </tr>\n",
       "  </thead>\n",
       "  <tbody>\n",
       "    <tr>\n",
       "      <th>0</th>\n",
       "      <td>-1.219768e+00</td>\n",
       "      <td>-7.651079e-01</td>\n",
       "      <td>0.000000</td>\n",
       "      <td>-1.694625e-16</td>\n",
       "      <td>-0.249758</td>\n",
       "      <td>1.729318</td>\n",
       "    </tr>\n",
       "    <tr>\n",
       "      <th>1</th>\n",
       "      <td>6.707175e-01</td>\n",
       "      <td>-5.535362e-01</td>\n",
       "      <td>-0.487009</td>\n",
       "      <td>-6.927932e-01</td>\n",
       "      <td>-0.253031</td>\n",
       "      <td>2.161617</td>\n",
       "    </tr>\n",
       "    <tr>\n",
       "      <th>2</th>\n",
       "      <td>6.611883e-01</td>\n",
       "      <td>-2.700989e-01</td>\n",
       "      <td>-0.682153</td>\n",
       "      <td>-6.927932e-01</td>\n",
       "      <td>-0.131180</td>\n",
       "      <td>-0.914024</td>\n",
       "    </tr>\n",
       "    <tr>\n",
       "      <th>3</th>\n",
       "      <td>1.406566e-15</td>\n",
       "      <td>-4.387982e-16</td>\n",
       "      <td>0.000000</td>\n",
       "      <td>-1.694625e-16</td>\n",
       "      <td>-0.262296</td>\n",
       "      <td>-0.925772</td>\n",
       "    </tr>\n",
       "    <tr>\n",
       "      <th>4</th>\n",
       "      <td>6.707175e-01</td>\n",
       "      <td>1.947775e-01</td>\n",
       "      <td>0.000000</td>\n",
       "      <td>-1.694625e-16</td>\n",
       "      <td>-0.260035</td>\n",
       "      <td>1.814065</td>\n",
       "    </tr>\n",
       "  </tbody>\n",
       "</table>\n",
       "</div>"
      ],
      "text/plain": [
       "              0             1         2             3         4         5\n",
       "0 -1.219768e+00 -7.651079e-01  0.000000 -1.694625e-16 -0.249758  1.729318\n",
       "1  6.707175e-01 -5.535362e-01 -0.487009 -6.927932e-01 -0.253031  2.161617\n",
       "2  6.611883e-01 -2.700989e-01 -0.682153 -6.927932e-01 -0.131180 -0.914024\n",
       "3  1.406566e-15 -4.387982e-16  0.000000 -1.694625e-16 -0.262296 -0.925772\n",
       "4  6.707175e-01  1.947775e-01  0.000000 -1.694625e-16 -0.260035  1.814065"
      ]
     },
     "execution_count": 47,
     "metadata": {},
     "output_type": "execute_result"
    }
   ],
   "source": [
    "scaled2010.head()"
   ]
  },
  {
   "cell_type": "code",
   "execution_count": 48,
   "metadata": {},
   "outputs": [],
   "source": [
    "prof_scaled = ProfileReport(scaled2010)"
   ]
  },
  {
   "cell_type": "code",
   "execution_count": 49,
   "metadata": {},
   "outputs": [
    {
     "data": {
      "application/vnd.jupyter.widget-view+json": {
       "model_id": "3ae9fc9aeec14e59ab94f1216eeb160f",
       "version_major": 2,
       "version_minor": 0
      },
      "text/plain": [
       "HBox(children=(FloatProgress(value=0.0, description='Summarize dataset', max=20.0, style=ProgressStyle(descrip…"
      ]
     },
     "metadata": {},
     "output_type": "display_data"
    },
    {
     "name": "stdout",
     "output_type": "stream",
     "text": [
      "\n"
     ]
    },
    {
     "data": {
      "application/vnd.jupyter.widget-view+json": {
       "model_id": "b82f817c80f7494bbff057a221807f60",
       "version_major": 2,
       "version_minor": 0
      },
      "text/plain": [
       "HBox(children=(FloatProgress(value=0.0, description='Generate report structure', max=1.0, style=ProgressStyle(…"
      ]
     },
     "metadata": {},
     "output_type": "display_data"
    },
    {
     "name": "stdout",
     "output_type": "stream",
     "text": [
      "\n"
     ]
    },
    {
     "data": {
      "application/vnd.jupyter.widget-view+json": {
       "model_id": "b6778c18cd104b168822936336e34458",
       "version_major": 2,
       "version_minor": 0
      },
      "text/plain": [
       "HBox(children=(FloatProgress(value=0.0, description='Render HTML', max=1.0, style=ProgressStyle(description_wi…"
      ]
     },
     "metadata": {},
     "output_type": "display_data"
    },
    {
     "name": "stdout",
     "output_type": "stream",
     "text": [
      "\n"
     ]
    },
    {
     "data": {
      "application/vnd.jupyter.widget-view+json": {
       "model_id": "d1df564c1e014257b42b04a49a5a61c7",
       "version_major": 2,
       "version_minor": 0
      },
      "text/plain": [
       "HBox(children=(FloatProgress(value=0.0, description='Export report to file', max=1.0, style=ProgressStyle(desc…"
      ]
     },
     "metadata": {},
     "output_type": "display_data"
    },
    {
     "name": "stdout",
     "output_type": "stream",
     "text": [
      "\n"
     ]
    }
   ],
   "source": [
    "prof_scaled.to_file(output_file='scaled2010.html')"
   ]
  },
  {
   "cell_type": "code",
   "execution_count": 50,
   "metadata": {},
   "outputs": [
    {
     "data": {
      "text/plain": [
       "['Country',\n",
       " 'Access to electricity (% of population)',\n",
       " 'CO2 emissions (metric tons per capita)',\n",
       " 'Electric power consumption (kWh per capita)',\n",
       " 'Electricity production from renewable sources, excluding hydroelectric (% of total)',\n",
       " 'GDP (constant 2010 US$)',\n",
       " 'Renewable electricity output (% of total electricity output)']"
      ]
     },
     "execution_count": 50,
     "metadata": {},
     "output_type": "execute_result"
    }
   ],
   "source": [
    "cols"
   ]
  },
  {
   "cell_type": "code",
   "execution_count": 51,
   "metadata": {},
   "outputs": [],
   "source": [
    "cols_short = ['ate', 'ce', 'epc', 'epr', 'gdp', 'reo']"
   ]
  },
  {
   "cell_type": "code",
   "execution_count": 52,
   "metadata": {},
   "outputs": [],
   "source": [
    "scaled2010.columns = cols_short"
   ]
  },
  {
   "cell_type": "code",
   "execution_count": 53,
   "metadata": {},
   "outputs": [
    {
     "data": {
      "text/html": [
       "<div>\n",
       "<style scoped>\n",
       "    .dataframe tbody tr th:only-of-type {\n",
       "        vertical-align: middle;\n",
       "    }\n",
       "\n",
       "    .dataframe tbody tr th {\n",
       "        vertical-align: top;\n",
       "    }\n",
       "\n",
       "    .dataframe thead th {\n",
       "        text-align: right;\n",
       "    }\n",
       "</style>\n",
       "<table border=\"1\" class=\"dataframe\">\n",
       "  <thead>\n",
       "    <tr style=\"text-align: right;\">\n",
       "      <th></th>\n",
       "      <th>ate</th>\n",
       "      <th>ce</th>\n",
       "      <th>epc</th>\n",
       "      <th>epr</th>\n",
       "      <th>gdp</th>\n",
       "      <th>reo</th>\n",
       "    </tr>\n",
       "  </thead>\n",
       "  <tbody>\n",
       "    <tr>\n",
       "      <th>0</th>\n",
       "      <td>-1.219768e+00</td>\n",
       "      <td>-7.651079e-01</td>\n",
       "      <td>0.000000</td>\n",
       "      <td>-1.694625e-16</td>\n",
       "      <td>-0.249758</td>\n",
       "      <td>1.729318</td>\n",
       "    </tr>\n",
       "    <tr>\n",
       "      <th>1</th>\n",
       "      <td>6.707175e-01</td>\n",
       "      <td>-5.535362e-01</td>\n",
       "      <td>-0.487009</td>\n",
       "      <td>-6.927932e-01</td>\n",
       "      <td>-0.253031</td>\n",
       "      <td>2.161617</td>\n",
       "    </tr>\n",
       "    <tr>\n",
       "      <th>2</th>\n",
       "      <td>6.611883e-01</td>\n",
       "      <td>-2.700989e-01</td>\n",
       "      <td>-0.682153</td>\n",
       "      <td>-6.927932e-01</td>\n",
       "      <td>-0.131180</td>\n",
       "      <td>-0.914024</td>\n",
       "    </tr>\n",
       "    <tr>\n",
       "      <th>3</th>\n",
       "      <td>1.406566e-15</td>\n",
       "      <td>-4.387982e-16</td>\n",
       "      <td>0.000000</td>\n",
       "      <td>-1.694625e-16</td>\n",
       "      <td>-0.262296</td>\n",
       "      <td>-0.925772</td>\n",
       "    </tr>\n",
       "    <tr>\n",
       "      <th>4</th>\n",
       "      <td>6.707175e-01</td>\n",
       "      <td>1.947775e-01</td>\n",
       "      <td>0.000000</td>\n",
       "      <td>-1.694625e-16</td>\n",
       "      <td>-0.260035</td>\n",
       "      <td>1.814065</td>\n",
       "    </tr>\n",
       "  </tbody>\n",
       "</table>\n",
       "</div>"
      ],
      "text/plain": [
       "            ate            ce       epc           epr       gdp       reo\n",
       "0 -1.219768e+00 -7.651079e-01  0.000000 -1.694625e-16 -0.249758  1.729318\n",
       "1  6.707175e-01 -5.535362e-01 -0.487009 -6.927932e-01 -0.253031  2.161617\n",
       "2  6.611883e-01 -2.700989e-01 -0.682153 -6.927932e-01 -0.131180 -0.914024\n",
       "3  1.406566e-15 -4.387982e-16  0.000000 -1.694625e-16 -0.262296 -0.925772\n",
       "4  6.707175e-01  1.947775e-01  0.000000 -1.694625e-16 -0.260035  1.814065"
      ]
     },
     "execution_count": 53,
     "metadata": {},
     "output_type": "execute_result"
    }
   ],
   "source": [
    "scaled2010.head()"
   ]
  },
  {
   "cell_type": "code",
   "execution_count": 55,
   "metadata": {},
   "outputs": [
    {
     "data": {
      "text/plain": [
       "<matplotlib.axes._subplots.AxesSubplot at 0x21c4a73b7c0>"
      ]
     },
     "execution_count": 55,
     "metadata": {},
     "output_type": "execute_result"
    },
    {
     "data": {
      "image/png": "[encoded data removed]",
      "text/plain": [
       "<Figure size 432x288 with 2 Axes>"
      ]
     },
     "metadata": {
      "needs_background": "light"
     },
     "output_type": "display_data"
    }
   ],
   "source": [
    "sns.heatmap(scaled2010.corr(), annot=True)"
   ]
  },
  {
   "cell_type": "code",
   "execution_count": 56,
   "metadata": {},
   "outputs": [],
   "source": [
    "from sklearn.ensemble import RandomForestClassifier"
   ]
  },
  {
   "cell_type": "code",
   "execution_count": null,
   "metadata": {},
   "outputs": [],
   "source": [
    "model = "
   ]
  }
 ],
 "metadata": {
  "kernelspec": {
   "display_name": "Python 3",
   "language": "python",
   "name": "python3"
  },
  "language_info": {
   "codemirror_mode": {
    "name": "ipython",
    "version": 3
   },
   "file_extension": ".py",
   "mimetype": "text/x-python",
   "name": "python",
   "nbconvert_exporter": "python",
   "pygments_lexer": "ipython3",
   "version": "3.8.3"
  }
 },
 "nbformat": 4,
 "nbformat_minor": 4
}
